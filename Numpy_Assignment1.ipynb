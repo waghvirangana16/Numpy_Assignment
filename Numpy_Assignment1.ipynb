{
 "cells": [
  {
   "cell_type": "code",
   "execution_count": 25,
   "id": "8c21f5ab",
   "metadata": {},
   "outputs": [
    {
     "data": {
      "text/plain": [
       "array([0, 0, 0, 0, 1, 0, 0, 0, 0, 0])"
      ]
     },
     "execution_count": 25,
     "metadata": {},
     "output_type": "execute_result"
    }
   ],
   "source": [
    "#Create a null vector of size 10 but the fifth value which is 1.\n",
    "import numpy as np\n",
    "a=np.zeros(10,dtype=int)\n",
    "a[4]=1\n",
    "a"
   ]
  },
  {
   "cell_type": "code",
   "execution_count": 26,
   "id": "ff2f6193",
   "metadata": {},
   "outputs": [
    {
     "data": {
      "text/plain": [
       "array([10, 11, 12, 13, 14, 15, 16, 17, 18, 19, 20, 21, 22, 23, 24, 25, 26,\n",
       "       27, 28, 29, 30, 31, 32, 33, 34, 35, 36, 37, 38, 39, 40, 41, 42, 43,\n",
       "       44, 45, 46, 47, 48, 49])"
      ]
     },
     "execution_count": 26,
     "metadata": {},
     "output_type": "execute_result"
    }
   ],
   "source": [
    "#Create a vector with values ranging from 10 to 49.\n",
    "a=np.arange(10,50)\n",
    "a"
   ]
  },
  {
   "cell_type": "code",
   "execution_count": 27,
   "id": "c683d992",
   "metadata": {},
   "outputs": [
    {
     "data": {
      "text/plain": [
       "array([[0, 1, 2],\n",
       "       [3, 4, 5],\n",
       "       [6, 7, 8]])"
      ]
     },
     "execution_count": 27,
     "metadata": {},
     "output_type": "execute_result"
    }
   ],
   "source": [
    "#Create a 3x3 matrix with values ranging from 0 to 8\n",
    "a=np.arange(0,9).reshape(3,3)\n",
    "a"
   ]
  },
  {
   "cell_type": "code",
   "execution_count": 28,
   "id": "d8d5e14c",
   "metadata": {},
   "outputs": [
    {
     "name": "stdout",
     "output_type": "stream",
     "text": [
      "0\n",
      "1\n",
      "4\n"
     ]
    }
   ],
   "source": [
    "#Find indices of non-zero elements from [1,2,0,0,4,0]\n",
    "a=np.array([1,2,0,0,4,0])\n",
    "for i in range(len(a)):\n",
    "    if a[i]==0:\n",
    "        continue\n",
    "    print(i)"
   ]
  },
  {
   "cell_type": "code",
   "execution_count": 29,
   "id": "0e5c4abc",
   "metadata": {},
   "outputs": [
    {
     "name": "stdout",
     "output_type": "stream",
     "text": [
      "[[0.14589619 0.57610621 0.95882163 0.71008523 0.56325053 0.49689081\n",
      "  0.56756594 0.8450752  0.00471232 0.14013918]\n",
      " [0.60662433 0.27588243 0.44414524 0.4340943  0.36703935 0.37981113\n",
      "  0.89516764 0.37856254 0.08183067 0.21342945]\n",
      " [0.65101285 0.68994016 0.41236622 0.27413973 0.20676117 0.70975705\n",
      "  0.80486344 0.02897784 0.49187796 0.12989239]\n",
      " [0.07015024 0.28472365 0.92814828 0.99761459 0.00566525 0.88047725\n",
      "  0.62356988 0.34031792 0.69541669 0.57202894]\n",
      " [0.75550741 0.25790608 0.83934032 0.72952066 0.59992898 0.9337775\n",
      "  0.56857809 0.70438399 0.50035845 0.23074343]\n",
      " [0.72031667 0.91905628 0.24393728 0.7776519  0.57932463 0.01170804\n",
      "  0.6491006  0.40632467 0.11988502 0.5974412 ]\n",
      " [0.47271691 0.7373267  0.11027128 0.7349699  0.58771667 0.80389796\n",
      "  0.92801351 0.10175493 0.68310102 0.67750793]\n",
      " [0.47187122 0.4519724  0.36222735 0.92497635 0.11159749 0.71707287\n",
      "  0.98732141 0.44891445 0.64840101 0.77884273]\n",
      " [0.39984721 0.52291452 0.84578221 0.02124813 0.83065158 0.16215049\n",
      "  0.63782687 0.7951971  0.7054242  0.22394076]\n",
      " [0.37440496 0.8791398  0.7173433  0.66137438 0.48547837 0.65308848\n",
      "  0.34952581 0.37852828 0.6913881  0.09232291]]\n",
      "\n",
      "Minimum value is:  0.004712323773714111\n",
      "Maximum value is:  0.9976145869951334\n"
     ]
    }
   ],
   "source": [
    "# Create a 10x10 array with random values and find the minimum and maximum values.\n",
    "import random\n",
    "a=np.random.rand(10,10)\n",
    "print(a)\n",
    "print(\"\\nMinimum value is: \",a.min())\n",
    "print(\"Maximum value is: \",a.max())"
   ]
  },
  {
   "cell_type": "code",
   "execution_count": 30,
   "id": "7483d7c5",
   "metadata": {},
   "outputs": [
    {
     "name": "stdout",
     "output_type": "stream",
     "text": [
      "[0.26830157 0.55403581 0.61480816 0.36859177 0.87084481 0.57438282\n",
      " 0.71330669 0.43971772 0.85273878 0.90339073 0.10423774 0.86976645\n",
      " 0.09604134 0.44309104 0.569308   0.61758045 0.66767726 0.03924983\n",
      " 0.56024612 0.2100368  0.99789311 0.95681834 0.5723293  0.22809612\n",
      " 0.23851734 0.0312681  0.86172014 0.40403101 0.28101852 0.25308669]\n",
      "\n",
      "Mean of the vector is:  0.5054044189594147\n"
     ]
    }
   ],
   "source": [
    "#Create a random vector of size 30 and find the mean value\n",
    "import numpy as np\n",
    "import random\n",
    "a=np.random.rand(30)\n",
    "print(a)\n",
    "print(\"\\nMean of the vector is: \",a.mean())"
   ]
  }
 ],
 "metadata": {
  "kernelspec": {
   "display_name": "Python 3 (ipykernel)",
   "language": "python",
   "name": "python3"
  },
  "language_info": {
   "codemirror_mode": {
    "name": "ipython",
    "version": 3
   },
   "file_extension": ".py",
   "mimetype": "text/x-python",
   "name": "python",
   "nbconvert_exporter": "python",
   "pygments_lexer": "ipython3",
   "version": "3.9.12"
  }
 },
 "nbformat": 4,
 "nbformat_minor": 5
}
